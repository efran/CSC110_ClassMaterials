{
 "cells": [
  {
   "cell_type": "markdown",
   "metadata": {},
   "source": [
    "# Python Functions\n",
    "Part 1 of this week's HW introduces you to the concept of reusable code in the form of functions. We will cover functions in more detail, but this will give you enough information to complete the assignment."
   ]
  },
  {
   "cell_type": "markdown",
   "metadata": {},
   "source": [
    "### Scripting\n",
    "You have learned that Python is a \"scripting\" language and you have seen how code written in Python can be executed immediately.<br>\n",
    "This is very convenient, as it allows you to do things like open Python and use it as a calculator:"
   ]
  },
  {
   "cell_type": "code",
   "execution_count": 13,
   "metadata": {
    "collapsed": false
   },
   "outputs": [
    {
     "data": {
      "text/plain": [
       "2571.4285714285716"
      ]
     },
     "execution_count": 13,
     "metadata": {},
     "output_type": "execute_result"
    }
   ],
   "source": [
    "500 * 72 / 14"
   ]
  },
  {
   "cell_type": "markdown",
   "metadata": {},
   "source": [
    "However, this is not always the BEST way to write and run Python code.<br>\n",
    "We will be covering Python functions in more detail later, but this is a quick \"preview/introduction\" that will help you think about programming and designing programs."
   ]
  },
  {
   "cell_type": "markdown",
   "metadata": {},
   "source": [
    "### First Program\n",
    "A traditional program to write when learning a new computer language is a program that prints out \"Hello World!\"\n",
    "You have already learned how to do this in python:"
   ]
  },
  {
   "cell_type": "code",
   "execution_count": 14,
   "metadata": {
    "collapsed": false
   },
   "outputs": [
    {
     "name": "stdout",
     "output_type": "stream",
     "text": [
      "Hello World!\n"
     ]
    }
   ],
   "source": [
    "print(\"Hello World!\")"
   ]
  },
  {
   "cell_type": "markdown",
   "metadata": {},
   "source": [
    "### First Function\n",
    "What if you had to write greetings to a lot of different people? You might want a way to personalize the greeting.<br> A __function__ can help you do this:"
   ]
  },
  {
   "cell_type": "code",
   "execution_count": 9,
   "metadata": {
    "collapsed": false
   },
   "outputs": [
    {
     "name": "stdout",
     "output_type": "stream",
     "text": [
      "Hello, Emilia\n",
      "Hello, Peter\n",
      "Hello, Fred\n"
     ]
    }
   ],
   "source": [
    "# Function to print out a personalized greeting\n",
    "# Input: the name to use for the personalization (a string)\n",
    "# Output: personalized greeting printed out to the console\n",
    "\n",
    "def greeting(name): # This is the function header -- it NAMES the function and specifies necessary inputs\n",
    "    print(\"Hello,\", name) # This is the function body -- it contains the commands you want executed\n",
    "    \n",
    "    \n",
    "# The function needs an input argument (name)\n",
    "# input arguments are put inside the brackets\n",
    "name = \"Emilia\"\n",
    "\n",
    "# Call the function with the input argument:\n",
    "greeting(name)\n",
    "\n",
    "# This call would also work:\n",
    "greeting(\"Peter\") # A second function call\n",
    "\n",
    "# As would this one:\n",
    "somebody = \"Fred\"\n",
    "greeting(somebody) # A third function call"
   ]
  },
  {
   "cell_type": "markdown",
   "metadata": {},
   "source": [
    "You can combine function calls to functions you've written with calls to functions already available in Python, such as the input() function you used earlier:"
   ]
  },
  {
   "cell_type": "code",
   "execution_count": 11,
   "metadata": {
    "collapsed": false
   },
   "outputs": [
    {
     "name": "stdout",
     "output_type": "stream",
     "text": [
      "Please be so kind as to provide your name: Emilia\n",
      "Hello, Emilia\n"
     ]
    }
   ],
   "source": [
    "name = input(\"Please be so kind as to provide your name: \")\n",
    "\n",
    "greeting(name)"
   ]
  },
  {
   "cell_type": "markdown",
   "metadata": {},
   "source": [
    "### Why use functions\n",
    "It might seem easier just to write and save Python scripts consisting of lines of individually executable Python code -- and sometimes this is all you need.<br>\n",
    "Writing a function does offer some advantages:\n",
    "- Groups together code that logically belongs together (i.e. all the code needed to complete some defined task\n",
    "- Makes your code neater and more modular\n",
    "- Makes your code easier to reuse\n",
    "- Makes your code easier to read and understand (if you choose desriptive function names -- as you should)\n",
    "We will learn about functions in more detail soon, but this should be enough to get you started!\n"
   ]
  },
  {
   "cell_type": "markdown",
   "metadata": {},
   "source": [
    "### Your turn\n",
    "Arrange the following lines in order to complete and test the following task:\n",
    "\n",
    "Write a function to calculate how many pennies you have."
   ]
  },
  {
   "cell_type": "code",
   "execution_count": 12,
   "metadata": {
    "collapsed": false
   },
   "outputs": [
    {
     "ename": "IndentationError",
     "evalue": "unexpected indent (<ipython-input-12-b8e29a2bd9ba>, line 2)",
     "output_type": "error",
     "traceback": [
      "\u001b[0;36m  File \u001b[0;32m\"<ipython-input-12-b8e29a2bd9ba>\"\u001b[0;36m, line \u001b[0;32m2\u001b[0m\n\u001b[0;31m    print(dollars, \"dollars =\", pennies, \"pennies\")\u001b[0m\n\u001b[0m    ^\u001b[0m\n\u001b[0;31mIndentationError\u001b[0m\u001b[0;31m:\u001b[0m unexpected indent\n"
     ]
    }
   ],
   "source": [
    "dollars_to_pennies(money_i_have)\n",
    "    print(dollars, \"dollars =\", pennies, \"pennies\")\n",
    "def dollars_to_pennies(dollars):\n",
    "    pennies = int(dollars * 100) # don't want fractional pennies -- even if it's just .0\n",
    "money_i_have = 23.83    \n",
    "# This function converts dollar amounts to pennies.\n",
    "# This line represents a blank line -- i.e. put it in the correct location and then delete it so a blank line remains\n",
    "\n",
    "\n",
    "    "
   ]
  },
  {
   "cell_type": "code",
   "execution_count": null,
   "metadata": {
    "collapsed": true
   },
   "outputs": [],
   "source": []
  }
 ],
 "metadata": {
  "kernelspec": {
   "display_name": "Python 3",
   "language": "python",
   "name": "python3"
  },
  "language_info": {
   "codemirror_mode": {
    "name": "ipython",
    "version": 3
   },
   "file_extension": ".py",
   "mimetype": "text/x-python",
   "name": "python",
   "nbconvert_exporter": "python",
   "pygments_lexer": "ipython3",
   "version": "3.5.2"
  }
 },
 "nbformat": 4,
 "nbformat_minor": 2
}
