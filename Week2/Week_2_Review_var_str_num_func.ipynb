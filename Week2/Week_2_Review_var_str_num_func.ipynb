{
 "cells": [
  {
   "cell_type": "markdown",
   "metadata": {},
   "source": [
    "## Review: Variables, Strings, Numbers, and Functions\n",
    "So far, you have been introduced to the basic way to store data in a program - variables.<br>\n",
    "You have used variables to store strings and numbers, including data obtained from a user.<br>\n",
    "You have seen how variables can be combined with other variables, strings, and numbers (and when this doesn't work so well).<br>\n",
    "You have used variables that store numbers in mathematical expressions.<br>\n",
    "And you have used variables that store strings in combination with the + and * operators.<br><br>\n",
    "This week, you were also introduced to functions.<br>\n",
    "Functions let you store blocks of code that complete a specific task.<br>\n",
    "Functions are one way to make your code modular -- this makes it easier to read, understand, and reuse.\n",
    "The code cell below demos some of what we have covered so far."
   ]
  },
  {
   "cell_type": "code",
   "execution_count": 16,
   "metadata": {
    "collapsed": false
   },
   "outputs": [
    {
     "name": "stdout",
     "output_type": "stream",
     "text": [
      "HelloHelloHello\n",
      "Hello Seattle\n",
      "What is your favorite subject: math\n",
      "Cool! I like math too!\n",
      "How many eggs in a dozen: 12\n",
      "12\n",
      "What is a number between 1 and 2: 1.75\n",
      "1.75\n",
      "There are 12 people in the room.\n"
     ]
    }
   ],
   "source": [
    "# storing a string in a variable\n",
    "greeting = \"Hello\"\n",
    "\n",
    "# storing a number in a variable\n",
    "trio = 3\n",
    "\n",
    "# using these two variables in an expression\n",
    "# this doesn't work using + for string concatenation (trio is not storing a string)\n",
    "print(greeting * trio)\n",
    "\n",
    "# but this works -- concatenating 2 strings\n",
    "print(greeting + \" Seattle\")\n",
    "\n",
    "# getting string input from a user\n",
    "fav_subject = input(\"What is your favorite subject: \")\n",
    "\n",
    "# using the user input stored in the variable fav_subject\n",
    "# Remember to add spaces between words when using +\n",
    "print(\"Cool! I like \" + fav_subject + \" too!\")\n",
    "\n",
    "# converting string input from the user to numeric input (integer)\n",
    "dozen = int(input(\"How many eggs in a dozen: \"))\n",
    "print(dozen)\n",
    "\n",
    "# converting string input from the user to numeric input (float)\n",
    "decimal = float(input(\"What is a number between 1 and 2: \"))\n",
    "print(decimal)\n",
    "\n",
    "# combining numeric values and strings in a print statement\n",
    "print(\"There are\",dozen, \"people in the room.\")\n",
    "\n"
   ]
  },
  {
   "cell_type": "markdown",
   "metadata": {},
   "source": [
    "## Storing Data\n",
    "As you can see, variables are very useful.<br>\n",
    "You can use a variable in your code and apply the code to many different values, without having to make major changes.\n",
    "For example, look at the small code snippet below:"
   ]
  },
  {
   "cell_type": "code",
   "execution_count": 17,
   "metadata": {
    "collapsed": false
   },
   "outputs": [
    {
     "name": "stdout",
     "output_type": "stream",
     "text": [
      "Hello, Ada\n",
      "Ada, your name has 3 letters.\n",
      "My name is Antonia\n",
      "Ada and Antonia are both very nice names.\n",
      "That is all I can think to say about names.\n"
     ]
    }
   ],
   "source": [
    "name = \"Ada\"\n",
    "my_name = \"Antonia\"\n",
    "\n",
    "print(\"Hello,\",name)\n",
    "print(name + \", your name has\", len(name), \"letters.\") \n",
    "# use string concatenation above so there is no space before the comma\n",
    "print(\"My name is\", my_name)\n",
    "print(name, \"and\", my_name, \"are both very nice names.\")\n",
    "print(\"That is all I can think to say about names.\")"
   ]
  },
  {
   "cell_type": "markdown",
   "metadata": {},
   "source": [
    "The variable \"name\" was used 4 times, and the variable \"my_name\" was used twice.<br>\n",
    "What if we wanted to use this same code again on a different pair of names?<br>\n",
    "We could just copy and paste the code used above and make some changes.<br>\n",
    "We'd only need to make 2 changes, not 6:"
   ]
  },
  {
   "cell_type": "code",
   "execution_count": 18,
   "metadata": {
    "collapsed": false
   },
   "outputs": [
    {
     "name": "stdout",
     "output_type": "stream",
     "text": [
      "Hello, Bert\n",
      "Bert, your name has 4 letters.\n",
      "My name is Brian\n",
      "Bert and Brian are both very nice names.\n",
      "That is all I can think to say about names.\n"
     ]
    }
   ],
   "source": [
    "name = \"Bert\"\n",
    "my_name = \"Brian\"\n",
    "\n",
    "print(\"Hello,\",name)\n",
    "print(name + \", your name has\", len(name), \"letters.\") \n",
    "# use string concatenation above so there is no space before the comma\n",
    "print(\"My name is\", my_name)\n",
    "print(name, \"and\", my_name, \"are both very nice names.\")\n",
    "print(\"That is all I can think to say about names.\")"
   ]
  },
  {
   "cell_type": "markdown",
   "metadata": {},
   "source": [
    "This is good, but we can make it even easier to reuse this code.<br>\n",
    "Copying and pasting code from one place to another seems tedious.<br>\n",
    "In part one of this week's homework, you learned about functions.<br>\n",
    "Instead of copying and pasting the code every time we want to reuse it, we can just put it in a function.<br>\n",
    "(Thank you for not asking why anyone would WANT to reuse this particulat block of code...)"
   ]
  },
  {
   "cell_type": "markdown",
   "metadata": {},
   "source": [
    "## Quick reminder about functions:\n",
    "Create a function using the __def__ keyword followed by the function's name.<br>\n",
    "Make sure you give your function a name that describes what the function does.<br>\n",
    "The function name is always followed by a set of parentheses and a colon.<br>\n",
    "If there are __inputs__ to the function, these go inside the parentheses.<br>\n",
    "If there are no inputs, the parentheses are left empty.<br><br>\n",
    "__REMEMBER:__ Spacing is __critical__ in Python programs.<br>\n",
    "All the text making up the __body__ of the function needs to be indented to show it belongs in the function."
   ]
  },
  {
   "cell_type": "code",
   "execution_count": 19,
   "metadata": {
    "collapsed": true
   },
   "outputs": [],
   "source": [
    "# Run this cell to get your function stored in the computer's memory\n",
    "# Once it is stored, you can call the function\n",
    "def name_chat(name, my_name):\n",
    "    print(\"Hello,\",name)\n",
    "    print(name + \", your name has\", len(name), \"letters.\") \n",
    "    # use string concatenation above so there is no space before the comma\n",
    "    print(\"My name is\", my_name)\n",
    "    print(name, \"and\", my_name, \"are both very nice names.\")\n",
    "    print(\"That is all I can think to say about names.\")\n",
    "    "
   ]
  },
  {
   "cell_type": "code",
   "execution_count": 13,
   "metadata": {
    "collapsed": false
   },
   "outputs": [
    {
     "name": "stdout",
     "output_type": "stream",
     "text": [
      "Hello, Alice\n",
      "Alice, your name has 5 letters.\n",
      "My name is Emilia\n",
      "Alice and Emilia are both very nice names.\n",
      "That is all I can think to say about names.\n",
      "\n",
      "Hello, Belinda\n",
      "Belinda, your name has 7 letters.\n",
      "My name is Emilia\n",
      "Belinda and Emilia are both very nice names.\n",
      "That is all I can think to say about names.\n",
      "\n",
      "Hello, Calliope\n",
      "Calliope, your name has 8 letters.\n",
      "My name is Emilia\n",
      "Calliope and Emilia are both very nice names.\n",
      "That is all I can think to say about names.\n"
     ]
    }
   ],
   "source": [
    "# The variables storing the names I want to use\n",
    "my_name = \"Emilia\"\n",
    "name_A = \"Alice\"\n",
    "name_B = \"Belinda\"\n",
    "name_C = \"Calliope\"\n",
    "\n",
    "# Function calls to print out the conversations\n",
    "\n",
    "name_chat(name_A, my_name) # Calling the function first with my name and name A\n",
    "print()                    # Add a blank line\n",
    "name_chat(name_B, my_name) # Calling the function again with my name and name B\n",
    "print()\n",
    "name_chat(name_C, my_name) # And one last function call for name C"
   ]
  },
  {
   "cell_type": "code",
   "execution_count": null,
   "metadata": {
    "collapsed": true
   },
   "outputs": [],
   "source": []
  }
 ],
 "metadata": {
  "kernelspec": {
   "display_name": "Python 3",
   "language": "python",
   "name": "python3"
  },
  "language_info": {
   "codemirror_mode": {
    "name": "ipython",
    "version": 3
   },
   "file_extension": ".py",
   "mimetype": "text/x-python",
   "name": "python",
   "nbconvert_exporter": "python",
   "pygments_lexer": "ipython3",
   "version": "3.5.2"
  }
 },
 "nbformat": 4,
 "nbformat_minor": 2
}
