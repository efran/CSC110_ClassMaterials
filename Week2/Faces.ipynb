{
 "cells": [
  {
   "cell_type": "markdown",
   "metadata": {
    "collapsed": true,
    "deletable": true,
    "editable": true
   },
   "source": [
    "## ASCII FACES\n",
    "This notebook is meant to introduce you to the concept of modularity and reuse of code. <br>\n",
    "Code that should logically be grouped together can be put into a function -- here, we have created functions for printing out different regions of a face made using ASCII characters. We want to be able to \"mix and match\" these functions to create a variety of different faces. There are 5 regions of the face. Right now, we have two different functions for each region. This gives us 2 &#42; 2 &#42; 2 &#42; 2 &#42; 2 = 32 different unique faces we could make. If you add just one due function for each region, how many unique faces could we come up with?<br><br>\n",
    "I don't know ... that's too many for me to calculate. Why don't we have Python help us?"
   ]
  },
  {
   "cell_type": "code",
   "execution_count": 9,
   "metadata": {
    "collapsed": false
   },
   "outputs": [
    {
     "name": "stdout",
     "output_type": "stream",
     "text": [
      "We can make 243 unique faces with 3 options for each region.\n"
     ]
    }
   ],
   "source": [
    "# To raise a number to an exponent in Python, use the symbol \"**\"\n",
    "unique_faces = 3**5\n",
    "print(\"We can make\", unique_faces, \"unique faces with 3 options for each region.\")"
   ]
  },
  {
   "cell_type": "markdown",
   "metadata": {},
   "source": [
    "### Face Region Functions\n",
    "The face has been divided into 5 regions:\n",
    "1. Hair\n",
    "2. Eyes\n",
    "3. Nose\n",
    "4. Mouth\n",
    "5. Chin and Neck\n",
    "\n",
    "Each region has 2 functions already provided that you can use as guides for making your own functions later.\n",
    "You will need to plan your functions carefully, so that they fit seamlessly with the functions already provided. Spacing and use of whitespace will be very important!<br><br>\n",
    "It may take a bit of trial and error -- you can modify text in a cell and re-run it as often as you need to.\n",
    "You may need to use _ESCAPE SEQUENCES_ -- you have some practice exercises on these this week.<br><br>\n",
    "Feel free to use any characters you'd like to in writing your face regions functions -- experiment and be creative!<br>\n",
    "The results should be quite fun to see :-)"
   ]
  },
  {
   "cell_type": "code",
   "execution_count": 10,
   "metadata": {
    "collapsed": true,
    "deletable": true,
    "editable": true
   },
   "outputs": [],
   "source": [
    "# Hair segments have dimensions 2 rows x 13 columns\n",
    "# Must join eyes segments which have structure: \n",
    "# blank - | -  9 units - | - blank\n",
    "def hair1():    \n",
    "    print (\"   _______\")    \n",
    "    print (\"  /       \\\\\")    \n",
    "    print (\" /         \\\\\")\n",
    "    "
   ]
  },
  {
   "cell_type": "code",
   "execution_count": 11,
   "metadata": {
    "collapsed": true,
    "deletable": true,
    "editable": true
   },
   "outputs": [],
   "source": [
    "def hair2():    \n",
    "    print (\"  @@@@@@@@@\")    \n",
    "    print (\" @@@@@@@@@@@\")"
   ]
  },
  {
   "cell_type": "code",
   "execution_count": 12,
   "metadata": {
    "collapsed": true,
    "deletable": true,
    "editable": true
   },
   "outputs": [],
   "source": [
    "# Eye segments have dimensions 2 rows x 13 columns\n",
    "# Must join hair segments which have structure:\n",
    "# blank - | -  9 units - | - blank\n",
    "# Must join nose segments which have structure: \n",
    "# blank - | -  9 units - | - blank\n",
    "def eyes1():    \n",
    "    print (\" | /\\\\   /\\\\ |\")\n",
    "    print (\"(| o    o  |)\")"
   ]
  },
  {
   "cell_type": "code",
   "execution_count": 13,
   "metadata": {
    "collapsed": true,
    "deletable": true,
    "editable": true
   },
   "outputs": [],
   "source": [
    "def eyes2():    \n",
    "    print (\" |  \\\\   \\\\  |\")    \n",
    "    print (\"(| *>  *>  |)\")"
   ]
  },
  {
   "cell_type": "code",
   "execution_count": 14,
   "metadata": {
    "collapsed": true,
    "deletable": true,
    "editable": true
   },
   "outputs": [],
   "source": [
    "# Nose segments have dimensions 3 rows x 13 columns\n",
    "# Must join eyes segments which have structure: \n",
    "# blank - | -  9 units - | - blank\n",
    "# Must join mouth segments which have structure: \n",
    "# blank - | -  9 units - | - blank\n",
    "def nose1():    \n",
    "    print (\" |   |     |\")    \n",
    "    print (\" |   |/    |\")    \n",
    "    print (\" |         |\")"
   ]
  },
  {
   "cell_type": "code",
   "execution_count": 15,
   "metadata": {
    "collapsed": true,
    "deletable": true,
    "editable": true
   },
   "outputs": [],
   "source": [
    "def nose2():    \n",
    "    print (\"(|         |)\")    \n",
    "    print (\" |   |/    |\")    \n",
    "    print (\" |  wwww   |\")"
   ]
  },
  {
   "cell_type": "code",
   "execution_count": 16,
   "metadata": {
    "collapsed": true,
    "deletable": true,
    "editable": true
   },
   "outputs": [],
   "source": [
    "# Mouth segments have dimensions 3 rows x 13 columns\n",
    "# and nose segments which have structure:# blank - | -  9 units - | - blank\n",
    "# Must join chin/neck segments which have structure: \n",
    "# blank - blank - \\ - 7 units - / - blank - blank\n",
    "def mouth1():    \n",
    "    print (\" |         |\")    \n",
    "    print (\" | \\\\_____/ |\")    "
   ]
  },
  {
   "cell_type": "code",
   "execution_count": 17,
   "metadata": {
    "collapsed": true,
    "deletable": true,
    "editable": true
   },
   "outputs": [],
   "source": [
    "def mouth2():    \n",
    "    print (\" |         |\")    \n",
    "    print (\" | /\\\\____  |\")    \n",
    "    print (\" \\\\ \\\\____/  /\")"
   ]
  },
  {
   "cell_type": "code",
   "execution_count": 18,
   "metadata": {
    "collapsed": true,
    "deletable": true,
    "editable": true
   },
   "outputs": [],
   "source": [
    "# Chin =/- neck segments have dimensions 3 rows x 13 columns\n",
    "# Must join mouth segments which have structure: \n",
    "# blank - \\ - 9 units - / - blank \n",
    "def chinNeck1():    \n",
    "    print (\"  \\\\_______/\")    \n",
    "    print (\"     /  \\\\\")"
   ]
  },
  {
   "cell_type": "code",
   "execution_count": 19,
   "metadata": {
    "collapsed": true,
    "deletable": true,
    "editable": true
   },
   "outputs": [],
   "source": [
    "def chinNeck2():    \n",
    "    print (\"  \\\\@@@@@@@/\")    \n",
    "    print (\"    @@@@@\")    \n",
    "    print (\"     @@\")"
   ]
  },
  {
   "cell_type": "markdown",
   "metadata": {},
   "source": [
    "### \"main\" function\n",
    "Python doesn't absolutely need a \"main\" function. The main function is the \"entry point\" into a program in many languages. Python, as a scripting language, will just start executing lines of code in the order it receives them. You may have noticed that you need to run your Jupyter Notebook cells in a particular order -- variables need to be defined and assigned values before they can be used in print statements or calculations, for example. Similarly, functions can be called until they have been defined. This means that our main function needs to come at the end, after all the functions it may include have already been written and their cells run.<br><br>\n",
    "When you run a cell that just contains a function definition, it will seem as though nothing is happening. However, the computer is \"reading and remembering\" the code, so that when you make a function call later, it knows what to do."
   ]
  },
  {
   "cell_type": "code",
   "execution_count": null,
   "metadata": {
    "collapsed": false,
    "deletable": true,
    "editable": true
   },
   "outputs": [],
   "source": [
    "# this main method draws one or more faces out of 5 separate subunits\n",
    "# you can see that with just 2 options for each segment,\n",
    "# you have multiple mix-and-match options\n",
    "\n",
    "# NOTE: The main method consists primarily of OTHER function calls and PRINT STATEMENTS\n",
    "\n",
    "def main() :    \n",
    "    hair1()    \n",
    "    eyes1()    \n",
    "    nose1()    \n",
    "    mouth1()    \n",
    "    chinNeck1()\n",
    "    \n",
    "    print()    \n",
    "    print()    \n",
    "    \n",
    "    hair2()    \n",
    "    eyes2()    \n",
    "    nose2()    \n",
    "    mouth2()    \n",
    "    chinNeck2()    \n",
    "    \n",
    "    print()    \n",
    "    print()             \n",
    "    \n",
    "    hair1()    \n",
    "    eyes2()    \n",
    "    nose1()    \n",
    "    mouth2()    \n",
    "    chinNeck1()    \n",
    "    \n",
    "    print()    \n",
    "    print()    \n",
    "    \n",
    "    hair1()    \n",
    "    eyes1()    \n",
    "    nose2()    \n",
    "    mouth1()    \n",
    "    chinNeck2()\n",
    "\n",
    "# We are now calling the main function\n",
    "main()"
   ]
  },
  {
   "cell_type": "markdown",
   "metadata": {
    "deletable": true,
    "editable": true
   },
   "source": [
    "## Your Turn:\n",
    "Using the functions above and the diagram in the cell below as guides, create additional versions of the different face regions."
   ]
  },
  {
   "cell_type": "markdown",
   "metadata": {
    "deletable": true,
    "editable": true
   },
   "source": [
    "<img src=\"ASCII_FACE_TEMPLATE.PNG\">"
   ]
  },
  {
   "cell_type": "code",
   "execution_count": null,
   "metadata": {
    "collapsed": true,
    "deletable": true,
    "editable": true
   },
   "outputs": [],
   "source": [
    "# Write a new \"hair3\" function:"
   ]
  },
  {
   "cell_type": "code",
   "execution_count": null,
   "metadata": {
    "collapsed": true,
    "deletable": true,
    "editable": true
   },
   "outputs": [],
   "source": [
    "# Write a new \"eyes3\" function:"
   ]
  },
  {
   "cell_type": "code",
   "execution_count": null,
   "metadata": {
    "collapsed": true,
    "deletable": true,
    "editable": true
   },
   "outputs": [],
   "source": [
    "# Write a new \"nose3\" function:"
   ]
  },
  {
   "cell_type": "code",
   "execution_count": null,
   "metadata": {
    "collapsed": true,
    "deletable": true,
    "editable": true
   },
   "outputs": [],
   "source": [
    "# Write a new \"mouth3\" function:"
   ]
  },
  {
   "cell_type": "code",
   "execution_count": null,
   "metadata": {
    "collapsed": true,
    "deletable": true,
    "editable": true
   },
   "outputs": [],
   "source": [
    "# Write a new \"chinNeck3\" function:"
   ]
  },
  {
   "cell_type": "markdown",
   "metadata": {},
   "source": [
    "### Your main function\n",
    "In general, a program would NOT contain 2 main functions. If you were writing this code in the Canopy IDE, you would just modify your initial main function. You could do that here, but using the Jupyter Notebook gives us more flexibility. We are able to \"overwrite\" our initial main function by running a new cell that defines a new main function.\n",
    "\n",
    "NOTE: Remember to CALL your main function after you finish writing it... (What would happen if you forgot this step?)"
   ]
  },
  {
   "cell_type": "code",
   "execution_count": 23,
   "metadata": {
    "collapsed": false
   },
   "outputs": [],
   "source": [
    "# Write a new \"main\" function to generate  your new creations\n"
   ]
  }
 ],
 "metadata": {
  "kernelspec": {
   "display_name": "Python 3",
   "language": "python",
   "name": "python3"
  },
  "language_info": {
   "codemirror_mode": {
    "name": "ipython",
    "version": 3
   },
   "file_extension": ".py",
   "mimetype": "text/x-python",
   "name": "python",
   "nbconvert_exporter": "python",
   "pygments_lexer": "ipython3",
   "version": "3.5.2"
  }
 },
 "nbformat": 4,
 "nbformat_minor": 2
}
