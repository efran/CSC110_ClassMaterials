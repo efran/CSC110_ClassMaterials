{
 "cells": [
  {
   "cell_type": "markdown",
   "metadata": {
    "deletable": true,
    "editable": true
   },
   "source": [
    "### Reading and Writing with Files\n",
    "For this assignment, you are going to need to be able to read (and write out) files. The first part of the notebook will cover how to accomplish these tasks.<br><br>\n",
    "For the first part of the assignment, you can either use the file provided (Days.txt), or create your own version of the file.<br><br>\n",
    "If you want to use the file provided, make sure you have downloaded it from the class website and have placed it somewhere you can easily access it.<br><br>\n",
    "If you want to create your own version of the file to use, that is quite easy (as it is a short file). Follow these steps:\n",
    "- Open your favorite text editor\n",
    "- Create a file named \"Days.txt\"\n",
    "- Enter the following text:<br><br>\n",
    "sunday<br>\n",
    "monday<br>\n",
    "tuesday<br>\n",
    "wednesday<br>\n",
    "thursday<br>\n",
    "friday<br>\n",
    "saturday<br><br>\n",
    "- Save the file in a location where you will be able to access it easily.\n"
   ]
  },
  {
   "cell_type": "markdown",
   "metadata": {
    "deletable": true,
    "editable": true
   },
   "source": [
    "### Reading a File\n",
    "Before you can read a file, you need to know how to tell the computer where it is.<br>\n",
    "This is done by giving the computer the __path__ to the file.<br>\n",
    "If you do not have the correct path to the file, something like this will happen:\n"
   ]
  },
  {
   "cell_type": "code",
   "execution_count": 55,
   "metadata": {
    "collapsed": false
   },
   "outputs": [
    {
     "ename": "FileNotFoundError",
     "evalue": "[Errno 2] No such file or directory: 'Days.txt'",
     "output_type": "error",
     "traceback": [
      "\u001b[0;31m---------------------------------------------------------------------------\u001b[0m",
      "\u001b[0;31mFileNotFoundError\u001b[0m                         Traceback (most recent call last)",
      "\u001b[0;32m<ipython-input-55-b3cf6ca603e8>\u001b[0m in \u001b[0;36m<module>\u001b[0;34m()\u001b[0m\n\u001b[0;32m----> 1\u001b[0;31m \u001b[0mf\u001b[0m \u001b[0;34m=\u001b[0m \u001b[0mopen\u001b[0m\u001b[0;34m(\u001b[0m\u001b[0;34m'Days.txt'\u001b[0m\u001b[0;34m,\u001b[0m \u001b[0;34m'r'\u001b[0m\u001b[0;34m)\u001b[0m\u001b[0;34m\u001b[0m\u001b[0m\n\u001b[0m",
      "\u001b[0;31mFileNotFoundError\u001b[0m: [Errno 2] No such file or directory: 'Days.txt'"
     ]
    }
   ],
   "source": [
    "f = open('Days.txt', 'r')"
   ]
  },
  {
   "cell_type": "markdown",
   "metadata": {},
   "source": [
    "This just means that the file you want to open is not located in the directory you  are currently working in. We are going to take a brief break from Python right now, and use some Unix commands that will help us navigate to the file we want to open. If you want to learn more about Unix commands, there are many online resources, including this site, which covers some basics: <a href='https://www.tjhsst.edu/~dhyatt/superap/unixcmd.html'>Basic Unix Commands</a>"
   ]
  },
  {
   "cell_type": "code",
   "execution_count": 56,
   "metadata": {
    "collapsed": false
   },
   "outputs": [
    {
     "data": {
      "text/plain": [
       "'/Users/emiliagan/Documents/CSC_110_Summer_2017'"
      ]
     },
     "execution_count": 56,
     "metadata": {},
     "output_type": "execute_result"
    }
   ],
   "source": [
    "pwd "
   ]
  },
  {
   "cell_type": "markdown",
   "metadata": {},
   "source": [
    "You can now change your directory to the one where you have stored the file you want to open.\n",
    "You do this with the command cd -- cd stands for \"change directory\""
   ]
  },
  {
   "cell_type": "code",
   "execution_count": 57,
   "metadata": {
    "collapsed": false
   },
   "outputs": [
    {
     "name": "stdout",
     "output_type": "stream",
     "text": [
      "/Users/emiliagan/Documents/CSC_110_Summer_2017/PythonNotebooks\n"
     ]
    }
   ],
   "source": [
    "cd '/Users/emiliagan/Documents/CSC_110_Summer_2017/PythonNotebooks/'"
   ]
  },
  {
   "cell_type": "markdown",
   "metadata": {},
   "source": [
    "To make sure you are in the right directory, use ls to \"list\" the files in the directory."
   ]
  },
  {
   "cell_type": "code",
   "execution_count": 14,
   "metadata": {
    "collapsed": false
   },
   "outputs": [
    {
     "name": "stdout",
     "output_type": "stream",
     "text": [
      "ASCII_FACE_TEMPLATE.PNG             Testing.ipynb\r\n",
      "Calculated.png                      Week 4 Conditionals.ipynb\r\n",
      "Canopy.png                          Week 4 Dictionaries.ipynb\r\n",
      "Days                                Week_1_Notebook_Introduction.ipynb\r\n",
      "Days.txt                            Week_1_Notebook_Python_Intro.ipynb\r\n",
      "EGAN.png                            Week_4_Conditionals.ipynb\r\n",
      "Expression.png                      Week_4_Dictionaries.ipynb\r\n",
      "Faces.ipynb                         \u001b[34mWk_1_HW_Part_2\u001b[m\u001b[m/\r\n",
      "FirstPythonFile.png                 Wk_1_HW_Part_2.zip\r\n",
      "FirstPythonFile.py                  \u001b[34mbabynames\u001b[m\u001b[m/\r\n",
      "HateReadingYourCode.png             babynames.zip\r\n",
      "NewFile.png                         cs-is-everything.mp4\r\n",
      "Opening.png                         image_command.png\r\n",
      "PrintStatement.png                  state_capitals.py\r\n",
      "RunCode.png                         var_string_num.ipynb\r\n",
      "SavingFile.png                      video_command.png\r\n"
     ]
    }
   ],
   "source": [
    "ls"
   ]
  },
  {
   "cell_type": "markdown",
   "metadata": {},
   "source": [
    "Now, we can switch back to Python and try to open the Days.txt file again:"
   ]
  },
  {
   "cell_type": "code",
   "execution_count": 58,
   "metadata": {
    "collapsed": true
   },
   "outputs": [],
   "source": [
    "f = open('Days.txt', 'r') # the 'r' means we are opening the file in 'read' mode"
   ]
  },
  {
   "cell_type": "markdown",
   "metadata": {},
   "source": [
    "The open() method returns a __file object__. You can think of this as a \"handle\" for the file. You do not, yet, have the __data__ from the file stored anywhere. You need to access the data somehow. One way to do this is to print the data."
   ]
  },
  {
   "cell_type": "code",
   "execution_count": 28,
   "metadata": {
    "collapsed": false
   },
   "outputs": [
    {
     "name": "stdout",
     "output_type": "stream",
     "text": [
      "sunday\n",
      "monday\n",
      "tuesday\n",
      "wednesday\n",
      "thursday\n",
      "friday\n",
      "saturday"
     ]
    }
   ],
   "source": [
    "for line in f:\n",
    "    print(line, end = \"\")"
   ]
  },
  {
   "cell_type": "markdown",
   "metadata": {},
   "source": [
    "However, doing this does __not__ access the data in a way that allows it to be reaccessed or reused. This can  be seen if we try to print the days of the week again in the exact same way:"
   ]
  },
  {
   "cell_type": "code",
   "execution_count": 30,
   "metadata": {
    "collapsed": true
   },
   "outputs": [],
   "source": [
    "for line in f:\n",
    "    print(line, end = \"\")"
   ]
  },
  {
   "cell_type": "markdown",
   "metadata": {},
   "source": [
    "__Nothing happens__. We can \"reset\" the file by returning a new file object (we can store it in a variable with the same name as before, as this will just \"overwrite\" any old assignment:"
   ]
  },
  {
   "cell_type": "code",
   "execution_count": 32,
   "metadata": {
    "collapsed": false
   },
   "outputs": [
    {
     "name": "stdout",
     "output_type": "stream",
     "text": [
      "sunday\n",
      "monday\n",
      "tuesday\n",
      "wednesday\n",
      "thursday\n",
      "friday\n",
      "saturday"
     ]
    }
   ],
   "source": [
    "f = open('Days.txt', 'r')\n",
    "for line in f:\n",
    "    print(line, end = \"\")"
   ]
  },
  {
   "cell_type": "code",
   "execution_count": null,
   "metadata": {
    "collapsed": true
   },
   "outputs": [],
   "source": [
    "But again, this only works ONE time:"
   ]
  },
  {
   "cell_type": "code",
   "execution_count": 33,
   "metadata": {
    "collapsed": true
   },
   "outputs": [],
   "source": [
    "for line in f:\n",
    "    print(line, end = \"\")"
   ]
  },
  {
   "cell_type": "markdown",
   "metadata": {},
   "source": [
    "What we need to do is read the file and store the data in another variable:"
   ]
  },
  {
   "cell_type": "code",
   "execution_count": 34,
   "metadata": {
    "collapsed": true
   },
   "outputs": [],
   "source": [
    "# The first line below is a modified version of our f = open('Days.txt') from earlier.\n",
    "# However, this formatting lets us read the file into a second variable (here named days_data).\n",
    "# In addition, using the 'with' keyword causes the file to be closed automatically, once\n",
    "# we are done reading it.\n",
    "\n",
    "with open('Days.txt') as f: \n",
    "    days_data = f.read()"
   ]
  },
  {
   "cell_type": "code",
   "execution_count": 35,
   "metadata": {
    "collapsed": false
   },
   "outputs": [
    {
     "name": "stdout",
     "output_type": "stream",
     "text": [
      "sunday\n",
      "monday\n",
      "tuesday\n",
      "wednesday\n",
      "thursday\n",
      "friday\n",
      "saturday\n"
     ]
    }
   ],
   "source": [
    "# We can now print the data...\n",
    "print(days_data)"
   ]
  },
  {
   "cell_type": "code",
   "execution_count": 44,
   "metadata": {
    "collapsed": false
   },
   "outputs": [
    {
     "name": "stdout",
     "output_type": "stream",
     "text": [
      "['s', 'u', 'n', 'd', 'a', 'y', '\\n', 'm', 'o', 'n', 'd', 'a', 'y', '\\n', 't', 'u', 'e', 's', 'd', 'a', 'y', '\\n', 'w', 'e', 'd', 'n', 'e', 's', 'd', 'a', 'y', '\\n', 't', 'h', 'u', 'r', 's', 'd', 'a', 'y', '\\n', 'f', 'r', 'i', 'd', 'a', 'y', '\\n', 's', 'a', 't', 'u', 'r', 'd', 'a', 'y']\n"
     ]
    }
   ],
   "source": [
    "# And we can also use a loop to access each line:\n",
    "days = []\n",
    "for item in days_data:\n",
    "    days.append(item)\n",
    "print(days)   "
   ]
  },
  {
   "cell_type": "markdown",
   "metadata": {},
   "source": [
    "Hmm...this is not exactly what we wanted. This happens because there is some invisible formatting going on, and every character is being treated as a separate line. The __rstrip()__ command should take care of this problem for us."
   ]
  },
  {
   "cell_type": "code",
   "execution_count": 45,
   "metadata": {
    "collapsed": false
   },
   "outputs": [
    {
     "name": "stdout",
     "output_type": "stream",
     "text": [
      "['sunday', 'monday', 'tuesday', 'wednesday', 'thursday', 'friday', 'saturday']\n"
     ]
    }
   ],
   "source": [
    "days = []\n",
    "with open(\"Days.txt\") as f:\n",
    "    for item in f:\n",
    "        days.append(item.rstrip())\n",
    "print(days)"
   ]
  },
  {
   "cell_type": "markdown",
   "metadata": {},
   "source": [
    "Now, we have the data in a nice, clean, usable format. We can use indexing to access list items and we can use string methods such as title():\n"
   ]
  },
  {
   "cell_type": "code",
   "execution_count": 46,
   "metadata": {
    "collapsed": false
   },
   "outputs": [
    {
     "name": "stdout",
     "output_type": "stream",
     "text": [
      "Wednesday\n"
     ]
    }
   ],
   "source": [
    "print(days[3].title())"
   ]
  },
  {
   "cell_type": "markdown",
   "metadata": {},
   "source": [
    "Remember I said above that our method of accessing the file data automatically closed the file after the data was read? Let's test that:"
   ]
  },
  {
   "cell_type": "code",
   "execution_count": 49,
   "metadata": {
    "collapsed": false
   },
   "outputs": [
    {
     "data": {
      "text/plain": [
       "True"
      ]
     },
     "execution_count": 49,
     "metadata": {},
     "output_type": "execute_result"
    }
   ],
   "source": [
    "f.closed"
   ]
  },
  {
   "cell_type": "markdown",
   "metadata": {},
   "source": [
    "This gives you the basics for reading a file. Specifically, the process to follow is to create a file object with open(), read the data, then close the file.<br><br> \n",
    "Using the 'with' command demonstrated earlier combines these steps.\n",
    "<br><br>\n"
   ]
  },
  {
   "cell_type": "markdown",
   "metadata": {},
   "source": [
    "### Using your data\n",
    "Now that you have read your data and stored in to a variable in some convenient form (in this case, in a list), you can use the data in your programs. This is a simple example of how you might read in a file to make some change to the data before writing out a new file. The days of the week should really start with capital letters. Our original file was all in lowercase. Let's fix that now."
   ]
  },
  {
   "cell_type": "code",
   "execution_count": 59,
   "metadata": {
    "collapsed": true
   },
   "outputs": [],
   "source": [
    "days_capitalized = []\n",
    "for day in days:\n",
    "    days_capitalized.append(day.title())\n",
    "    "
   ]
  },
  {
   "cell_type": "code",
   "execution_count": 60,
   "metadata": {
    "collapsed": false
   },
   "outputs": [
    {
     "name": "stdout",
     "output_type": "stream",
     "text": [
      "['Sunday', 'Monday', 'Tuesday', 'Wednesday', 'Thursday', 'Friday', 'Saturday']\n"
     ]
    }
   ],
   "source": [
    "print(days_capitalized)"
   ]
  },
  {
   "cell_type": "markdown",
   "metadata": {},
   "source": [
    "### Writing out to a new file\n",
    "Now that you know how to read files, it is time to learn how to write files. First, we will change our file and then store the modified data in a new file:"
   ]
  },
  {
   "cell_type": "code",
   "execution_count": 61,
   "metadata": {
    "collapsed": true
   },
   "outputs": [],
   "source": [
    "f_out = open(\"Days_Caps.txt\", \"w\")\n",
    "for day in days_capitalized:\n",
    "    f_out.write(day)"
   ]
  },
  {
   "cell_type": "markdown",
   "metadata": {},
   "source": [
    "If you look in your directory, there should now be a new file named Days_Caps.txt. We will check to see if this file, in fact, exists:\n"
   ]
  },
  {
   "cell_type": "code",
   "execution_count": 62,
   "metadata": {
    "collapsed": false
   },
   "outputs": [
    {
     "name": "stdout",
     "output_type": "stream",
     "text": [
      "ASCII_FACE_TEMPLATE.PNG             Testing.ipynb\r\n",
      "Calculated.png                      Week 4 Conditionals.ipynb\r\n",
      "Canopy.png                          Week 4 Dictionaries.ipynb\r\n",
      "Days                                Week_1_Notebook_Introduction.ipynb\r\n",
      "Days.txt                            Week_1_Notebook_Python_Intro.ipynb\r\n",
      "Days_Caps.txt                       Week_4_Conditionals.ipynb\r\n",
      "EGAN.png                            Week_4_Dictionaries.ipynb\r\n",
      "Expression.png                      \u001b[34mWk_1_HW_Part_2\u001b[m\u001b[m/\r\n",
      "Faces.ipynb                         Wk_1_HW_Part_2.zip\r\n",
      "FirstPythonFile.png                 \u001b[34mbabynames\u001b[m\u001b[m/\r\n",
      "FirstPythonFile.py                  babynames.zip\r\n",
      "HateReadingYourCode.png             cs-is-everything.mp4\r\n",
      "NewFile.png                         image_command.png\r\n",
      "Opening.png                         state_capitals.py\r\n",
      "PrintStatement.png                  var_string_num.ipynb\r\n",
      "RunCode.png                         video_command.png\r\n",
      "SavingFile.png\r\n"
     ]
    }
   ],
   "source": [
    "ls"
   ]
  },
  {
   "cell_type": "markdown",
   "metadata": {},
   "source": [
    "And there it is! <br><br>\n",
    "Just to tidy up loose ends, we should close any open files. The new f_out file could still be open. We can check this:"
   ]
  },
  {
   "cell_type": "code",
   "execution_count": 63,
   "metadata": {
    "collapsed": false
   },
   "outputs": [
    {
     "data": {
      "text/plain": [
       "False"
      ]
     },
     "execution_count": 63,
     "metadata": {},
     "output_type": "execute_result"
    }
   ],
   "source": [
    "f_out.closed"
   ]
  },
  {
   "cell_type": "markdown",
   "metadata": {},
   "source": [
    "Oops -- look like it is actually still open!"
   ]
  },
  {
   "cell_type": "code",
   "execution_count": 64,
   "metadata": {
    "collapsed": false
   },
   "outputs": [
    {
     "data": {
      "text/plain": [
       "True"
      ]
     },
     "execution_count": 64,
     "metadata": {},
     "output_type": "execute_result"
    }
   ],
   "source": [
    "f_out.close() # the close() method should close the file\n",
    "f_out.closed  # this will check the open/closed status once again"
   ]
  },
  {
   "cell_type": "markdown",
   "metadata": {},
   "source": [
    "__NOW__ we are ready to move on, secure in the knowledge that we have closed everything properly. Let's just also make sure that the contents of the new output file are what we expect. For this, we can use another Unix command \"cat.\" The name of this command is derived from its ability to \"concatenate\" files."
   ]
  },
  {
   "cell_type": "code",
   "execution_count": 65,
   "metadata": {
    "collapsed": false
   },
   "outputs": [
    {
     "name": "stdout",
     "output_type": "stream",
     "text": [
      "SundayMondayTuesdayWednesdayThursdayFridaySaturday"
     ]
    }
   ],
   "source": [
    "cat Days_Caps.txt"
   ]
  },
  {
   "cell_type": "markdown",
   "metadata": {},
   "source": [
    "This is, once again, probably __NOT__ the formatting you wanted. Let's try again. We can use the same file names and have our new attempt overwrite our first attempt."
   ]
  },
  {
   "cell_type": "code",
   "execution_count": 67,
   "metadata": {
    "collapsed": true
   },
   "outputs": [],
   "source": [
    "f_out = open(\"Days_Caps.txt\", \"w\")\n",
    "for day in days_capitalized:\n",
    "    f_out.write(day + \"\\n\")  # Add a new line after every day\n",
    "    \n",
    "f_out.close() # remember to close the file"
   ]
  },
  {
   "cell_type": "markdown",
   "metadata": {},
   "source": [
    "Check the new output file's contents again:"
   ]
  },
  {
   "cell_type": "code",
   "execution_count": 68,
   "metadata": {
    "collapsed": false
   },
   "outputs": [
    {
     "name": "stdout",
     "output_type": "stream",
     "text": [
      "Sunday\r\n",
      "Monday\r\n",
      "Tuesday\r\n",
      "Wednesday\r\n",
      "Thursday\r\n",
      "Friday\r\n",
      "Saturday\r\n"
     ]
    }
   ],
   "source": [
    "cat Days_Caps.txt"
   ]
  },
  {
   "cell_type": "markdown",
   "metadata": {},
   "source": [
    "OK -- that's better! Congratulations, you have navigated your first time opening and closing and reading from and writing to files. The process is somewhat tedious, but essential. Remember to check your data at various stages of the process to make sure you are transferring the data you think you are transferring, thus avoiding inconvenient surprises."
   ]
  },
  {
   "cell_type": "code",
   "execution_count": null,
   "metadata": {
    "collapsed": true
   },
   "outputs": [],
   "source": []
  }
 ],
 "metadata": {
  "kernelspec": {
   "display_name": "Python 3",
   "language": "python",
   "name": "python3"
  },
  "language_info": {
   "codemirror_mode": {
    "name": "ipython",
    "version": 3
   },
   "file_extension": ".py",
   "mimetype": "text/x-python",
   "name": "python",
   "nbconvert_exporter": "python",
   "pygments_lexer": "ipython3",
   "version": "3.5.2"
  }
 },
 "nbformat": 4,
 "nbformat_minor": 2
}
