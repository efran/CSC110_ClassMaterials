{
 "cells": [
  {
   "cell_type": "code",
   "execution_count": 52,
   "metadata": {
    "collapsed": false,
    "deletable": true,
    "editable": true
   },
   "outputs": [],
   "source": [
    "import io # ignore this"
   ]
  },
  {
   "cell_type": "code",
   "execution_count": 53,
   "metadata": {
    "collapsed": false,
    "deletable": true,
    "editable": true
   },
   "outputs": [
    {
     "data": {
      "text/plain": [
       "'/Users/emiliagan/Downloads'"
      ]
     },
     "execution_count": 53,
     "metadata": {},
     "output_type": "execute_result"
    }
   ],
   "source": [
    "pwd"
   ]
  },
  {
   "cell_type": "code",
   "execution_count": 54,
   "metadata": {
    "collapsed": false,
    "deletable": true,
    "editable": true
   },
   "outputs": [
    {
     "name": "stdout",
     "output_type": "stream",
     "text": [
      "fairbanks north star borough\n",
      "{'pop_dense': '14.03', 'per_capita': '32906', 'percent_pop': '16', 'no_access': '16521'}\n",
      "cape may county\n",
      "{'pop_dense': '359.38', 'per_capita': '33499', 'percent_pop': '3', 'no_access': '2601'}\n",
      "guadalupe county\n",
      "{'pop_dense': '212.86', 'per_capita': '26696', 'percent_pop': '', 'no_access': ''}\n",
      "dane county\n",
      "{'pop_dense': '435.28', 'per_capita': '33895', 'percent_pop': '4', 'no_access': '19675'}\n",
      "minidoka county\n",
      "{'pop_dense': '23.31', 'per_capita': '20238', 'percent_pop': '38', 'no_access': '6691'}\n"
     ]
    }
   ],
   "source": [
    "# Ignore the io.open and the encoding='utf-8'\n",
    "# These were added to permit my machine to open a dataset generated on a different system\n",
    "# (although, if you are getting error messages complaining about encoding, you could try this.)\n",
    "\n",
    "district_list = []\n",
    "no_access_list = []\n",
    "percent_pop_list = []\n",
    "pop_dense_list = []\n",
    "per_capita_list = []\n",
    "\n",
    "dataset =[]\n",
    "source = \"broadband_all.csv\"\n",
    "\n",
    "with io.open(source, encoding=\"utf-8\") as f:\n",
    "    for item in f:\n",
    "        dataset.append(item.lower().rstrip())\n",
    "\n",
    "del dataset[0]\n",
    "\n",
    "for entry in dataset:\n",
    "    current_data = entry.split(\",\")\n",
    "    district_list.append(current_data[0])\n",
    "    no_access_list.append(current_data[1])\n",
    "    percent_pop_list.append(current_data[2])\n",
    "    pop_dense_list.append(current_data[3])\n",
    "    per_capita_list.append(current_data[4])\n",
    "\n",
    "all_areas = {}\n",
    "for i in range(0,len(district_list)):\n",
    "    current_district_data = {}\n",
    "    current_key = district_list[i]\n",
    "    current_district_data[\"no_access\"] = no_access_list[i]\n",
    "    current_district_data[\"percent_pop\"] = percent_pop_list[i]\n",
    "    current_district_data[\"pop_dense\"] = pop_dense_list[i]\n",
    "    current_district_data[\"per_capita\"] = per_capita_list[i]\n",
    "    all_areas[current_key] = current_district_data           \n",
    "\n",
    "i = 0\n",
    "for key in all_areas.keys():\n",
    "    if i < 5:\n",
    "        print(key)\n",
    "        print(all_areas[key])\n",
    "        i += 1"
   ]
  },
  {
   "cell_type": "markdown",
   "metadata": {},
   "source": [
    "You can print out the entire dictionary, but since I am planning on having you look at the notebook in GitHub, I want to limit the size of the displayed output.<br><br>\n",
    "This shows us that the dictionary \"all_areas\" contains a district name for each __key__ and an associated dictionary of data collected for that district as each __value__.<br><br>\n",
    "Furthermore, some of the \"no_access\" fields are blank (contain only an empty string).<br>\n",
    "Also worth noting: \"pop_density\" contains float values (currently stored as strings), while the other items are integers (also currently stored as strings). Since we want to plot the data, at some point, we will likely want to convert these to float() and int() types, respectively."
   ]
  },
  {
   "cell_type": "code",
   "execution_count": 55,
   "metadata": {
    "collapsed": false,
    "deletable": true,
    "editable": true
   },
   "outputs": [
    {
     "name": "stdout",
     "output_type": "stream",
     "text": [
      "73077.08\n"
     ]
    }
   ],
   "source": [
    "# First find the maximum value\n",
    "max_value = max(district_density.values()) # maximum value\n",
    "print(max_value)"
   ]
  },
  {
   "cell_type": "code",
   "execution_count": 56,
   "metadata": {
    "collapsed": false,
    "deletable": true,
    "editable": true
   },
   "outputs": [
    {
     "name": "stdout",
     "output_type": "stream",
     "text": [
      "fairbanks north star borough : 14.03\n",
      "cape may county : 359.38\n",
      "guadalupe county : 212.86\n",
      "minidoka county : 23.31\n",
      "wabash county : 72.46\n"
     ]
    }
   ],
   "source": [
    "# Making a new dictionary with just district and pop density value\n",
    "district_density = {}\n",
    "for districts in all_areas:\n",
    "    density = all_areas[districts][\"pop_dense\"]\n",
    "    district = districts\n",
    "    district_density[district] = float(density)  # store as a decimal number instead of a string\n",
    "\n",
    "# Check the new dictionary -- again, I will just print out the first 5 items:\n",
    "i = 0\n",
    "for key in district_density.keys():\n",
    "    if i < 5:\n",
    "        print(key, \":\", district_density[key])\n",
    "        i += 1\n"
   ]
  },
  {
   "cell_type": "code",
   "execution_count": 57,
   "metadata": {
    "collapsed": false,
    "deletable": true,
    "editable": true
   },
   "outputs": [
    {
     "name": "stdout",
     "output_type": "stream",
     "text": [
      "District: New York County, Pop density: 73077.08\n"
     ]
    }
   ],
   "source": [
    "# Find the district(s) that has this population density\n",
    "for key, value in district_density.items():\n",
    "    if value == max_value:\n",
    "        print(\"District: \",key.title(), \", Pop density: \", max_value, sep=\"\")\n"
   ]
  },
  {
   "cell_type": "code",
   "execution_count": 58,
   "metadata": {
    "collapsed": false
   },
   "outputs": [
    {
     "name": "stdout",
     "output_type": "stream",
     "text": [
      "fairbanks north star borough : (14.03, 16521)\n",
      "cape may county : (359.38, 2601)\n",
      "minidoka county : (23.31, 6691)\n",
      "wabash county : (72.46, 11306)\n",
      "yoakum county : (9.46, 2205)\n"
     ]
    }
   ],
   "source": [
    "# For plotting pop density vs no access data\n",
    "# Making a new dictionary with just district and (access, pop density values)\n",
    "district_data = {}\n",
    "for districts in all_areas:\n",
    "    if all_areas[districts][\"pop_dense\"] != '' and all_areas[districts][\"no_access\"] != '':\n",
    "        density = all_areas[districts][\"pop_dense\"]\n",
    "        noaccess = all_areas[districts][\"no_access\"]\n",
    "        district_data[districts] = (float(density),int(noaccess))  # store as numeric values instead of strings\n",
    "        # districts missing values for \"pop_dense\" or \"no_access\" won't appear in the dictionary\n",
    "\n",
    "# Check the new dictionary -- you can just use the dictionary name to look at the entire object\n",
    "# district_data # <- uncomment this to see all the data - and delete the code below\n",
    "i = 0\n",
    "for key in district_data.keys():\n",
    "    if i < 5:\n",
    "        print(key, \":\", district_data[key])\n",
    "        i += 1"
   ]
  },
  {
   "cell_type": "code",
   "execution_count": 60,
   "metadata": {
    "collapsed": false
   },
   "outputs": [
    {
     "name": "stdout",
     "output_type": "stream",
     "text": [
      "('yukon-koyukuk census area', (0.03, 4530))\n",
      "('lake and peninsula borough', (0.06, 1514))\n",
      "('loving county', (0.07, 44))\n",
      "('yakutat city and borough', (0.07, 568))\n",
      "('north slope borough', (0.11, 9614))\n"
     ]
    }
   ],
   "source": [
    "# Let's sort data by the pop density values\n",
    "sorted_data = sorted(district_data.items(), key=lambda x: x[1]) \n",
    "\n",
    "# This is a method of writing code that we will NOT be covering.\n",
    "# You can read more about it here: http://www.secnetix.de/olli/Python/lambda_functions.hawk\n",
    "# Here, it is convenient for us to use for sorting by values in a dictionary.\n",
    "# The result is a LIST of items, sorted by the \"pop_dense\" value.\n",
    "\n",
    "# The following line would print out the entire LIST\n",
    "#print(sorted_data) \n",
    "\n",
    "# Sorting by pop density can help us make a nice LINE PLOT\n",
    "# notice it is sorted by the first number in the values tuple\n",
    "for i in range(0,5):\n",
    "    print(sorted_data[i])"
   ]
  },
  {
   "cell_type": "code",
   "execution_count": 61,
   "metadata": {
    "collapsed": false,
    "deletable": true,
    "editable": true
   },
   "outputs": [],
   "source": [
    "import numpy as np\n",
    "import pylab as pl\n",
    "\n",
    "x_vals = [] # this will be your pop density values\n",
    "y_vals = [] # this will be your access values\n",
    "\n",
    "\n",
    "for x in sorted_data:\n",
    "    x_vals.append(x[1][0]) # Add the first element of the second item (i.e. the first value in the tuple)\n",
    "    y_vals.append(x[1][1]) # Add the second element of the second item (i.e. the second value in the tuple)\n",
    "\n"
   ]
  },
  {
   "cell_type": "code",
   "execution_count": 62,
   "metadata": {
    "collapsed": false,
    "deletable": true,
    "editable": true
   },
   "outputs": [
    {
     "data": {
      "image/png": "[encoded data removed]",
      "text/plain": [
       "<matplotlib.figure.Figure at 0x1030b74e0>"
      ]
     },
     "metadata": {},
     "output_type": "display_data"
    }
   ],
   "source": [
    "# use pylab to plot x and y\n",
    "pl.plot(x_vals, y_vals)\n",
    "# show the plot on the screen\n",
    "pl.show()"
   ]
  },
  {
   "cell_type": "code",
   "execution_count": 63,
   "metadata": {
    "collapsed": true
   },
   "outputs": [],
   "source": [
    "# Say we want to look at the first part of the plot more closely\n",
    "x_vals_2 = [] # this will be your pop density values\n",
    "y_vals_2 = [] # this will be your access values\n",
    "\n",
    "for x in sorted_data:\n",
    "    if x [1][0] < 10000:\n",
    "        x_vals_2.append(x[1][0]) # Add the first element of the second item (i.e. the first value in the tuple)\n",
    "        y_vals_2.append(x[1][1]) # Add the second element of the second item (i.e. the second value in the tuple)\n",
    "\n"
   ]
  },
  {
   "cell_type": "code",
   "execution_count": 64,
   "metadata": {
    "collapsed": false
   },
   "outputs": [
    {
     "data": {
      "image/png": "[encoded data removed]",
      "text/plain": [
       "<matplotlib.figure.Figure at 0x1047390f0>"
      ]
     },
     "metadata": {},
     "output_type": "display_data"
    }
   ],
   "source": [
    "# use pylab to plot x and y\n",
    "pl.plot(x_vals_2, y_vals_2)\n",
    "# show the plot on the screen\n",
    "pl.show()"
   ]
  },
  {
   "cell_type": "code",
   "execution_count": 65,
   "metadata": {
    "collapsed": true
   },
   "outputs": [],
   "source": [
    "# Say we want to look at the first part of the plot more closely\n",
    "x_vals_3 = [] # this will be your pop density values\n",
    "y_vals_3 = [] # this will be your access values\n",
    "\n",
    "for x in sorted_data:\n",
    "    if x [1][0] < 2000:\n",
    "        x_vals_3.append(x[1][0]) # Add the first element of the second item (i.e. the first value in the tuple)\n",
    "        y_vals_3.append(x[1][1]) # Add the second element of the second item (i.e. the second value in the tuple)\n",
    "\n"
   ]
  },
  {
   "cell_type": "code",
   "execution_count": 66,
   "metadata": {
    "collapsed": false
   },
   "outputs": [
    {
     "data": {
      "image/png": "[encoded data removed]",
      "text/plain": [
       "<matplotlib.figure.Figure at 0x1046bf860>"
      ]
     },
     "metadata": {},
     "output_type": "display_data"
    }
   ],
   "source": [
    "# use pylab to plot x and y\n",
    "pl.plot(x_vals_3, y_vals_3)\n",
    "# show the plot on the screen\n",
    "pl.show()"
   ]
  },
  {
   "cell_type": "code",
   "execution_count": 67,
   "metadata": {
    "collapsed": false
   },
   "outputs": [
    {
     "data": {
      "image/png": "[encoded data removed]",
      "text/plain": [
       "<matplotlib.figure.Figure at 0x1047345c0>"
      ]
     },
     "metadata": {},
     "output_type": "display_data"
    }
   ],
   "source": [
    "# Say we want to look at the first part of the plot more closely\n",
    "x_vals_4 = [] # this will be your pop density values\n",
    "y_vals_4 = [] # this will be your access values\n",
    "\n",
    "for x in sorted_data:\n",
    "    if x [1][0] < 500:\n",
    "        x_vals_4.append(x[1][0]) # Add the first element of the second item (i.e. the first value in the tuple)\n",
    "        y_vals_4.append(x[1][1]) # Add the second element of the second item (i.e. the second value in the tuple)\n",
    "\n",
    "# use pylab to plot x and y\n",
    "pl.plot(x_vals_4, y_vals_4)\n",
    "# show the plot on the screen\n",
    "pl.show()"
   ]
  },
  {
   "cell_type": "markdown",
   "metadata": {},
   "source": [
    "Anyway, we've made the \"scrunched up\" data in the lower end of the plot easier to see, but I can't say I really see a consistent pattern here, other than after the population density reaches about 4000 (other than the blip near 6000) there are almost no occurrences of \"no access\" of any significance. And other than the peak just after 1000, most of the large \"no access\" areas are those where the pop dense is under 500. Under 500, however, my guess is that the height of the peak is more dependent on how many people there are in that district to start with, than how many don't have access (I wouldn't be surprised if none of them have access). It would be more helpful to know what percentage of people in the district have no access, because then it would be easier to compare one district to another."
   ]
  },
  {
   "cell_type": "code",
   "execution_count": null,
   "metadata": {
    "collapsed": true
   },
   "outputs": [],
   "source": []
  }
 ],
 "metadata": {
  "kernelspec": {
   "display_name": "Python 3",
   "language": "python",
   "name": "python3"
  },
  "language_info": {
   "codemirror_mode": {
    "name": "ipython",
    "version": 3
   },
   "file_extension": ".py",
   "mimetype": "text/x-python",
   "name": "python",
   "nbconvert_exporter": "python",
   "pygments_lexer": "ipython3",
   "version": "3.5.2"
  }
 },
 "nbformat": 4,
 "nbformat_minor": 2
}
