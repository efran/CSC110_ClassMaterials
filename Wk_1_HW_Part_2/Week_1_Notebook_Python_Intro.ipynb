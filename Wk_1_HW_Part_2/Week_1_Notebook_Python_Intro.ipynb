{
 "cells": [
  {
   "cell_type": "markdown",
   "metadata": {
    "deletable": true,
    "editable": true
   },
   "source": [
    "# Welcome to Python!\n",
    "<br>\n",
    "This notebook will introduce you to Python. A lot of the topics introduced in this notebook will be covered in more depth in coming weeks. For now, focus on using the code here as \"sample code\" to be modified slightly. This will help you get a sense of how the commands work.<br><br>\n",
    "__Remember:__ Use _Shift-Enter_ or _Ctrl-Enter_ to run each cell. To clear output, use the _Cell_ menu tab above and _Clear_ either _Current Outputs_ or _All Output_.\n",
    "<br>\n"
   ]
  },
  {
   "cell_type": "markdown",
   "metadata": {
    "deletable": true,
    "editable": true
   },
   "source": [
    "## Python as a Scripting Language\n",
    "Python is an __interpreted__ programming language. This means that you can write, test, and debug your code as you are writing it, without needing to go through a compilation step as you would need to in a __compiled__ language such as _Java_.\n",
    "<br><br>\n",
    "If you would like to read more about Python, this short essay published by the Python Software Foundation might be of interest: <a href=\"https://www.python.org/doc/essays/blurb/\">What is Python?</a>\n",
    "<br><br>\n",
    "Since Python is an interpreted language, you can even run single lines of Python code \"at the command line.\" <br>\n",
    "This is essentially what we are doing in code cells of the Jupyter Notebook.<br>\n"
   ]
  },
  {
   "cell_type": "markdown",
   "metadata": {
    "deletable": true,
    "editable": true
   },
   "source": [
    "## Test Python in the Canopy IDE\n",
    "To get a more \"traditional\" experience of writing Python code, we'll take a short break from this Jupyter Notebook and transition to the IDE. Before we do so, look at the screenshots shown below. \n",
    "<br><br>\n",
    "### Sections of the Canopy IDE\n",
    "<img src=\"Canopy.png\"> \n",
    "- The left hand side of the IDE shows your file system. You should create a file to store your python code and python notebook documents and associated files/images.\n",
    "- The bottom right hand side of the IDE is the Python console. When you open Canopy, you should see some text in the console, including information on what version of Python you are running. Make sure you have some version of Python 3. If you click in this region, you should see a blinking cursor. This is your Python prompt. You may type and run Python code here.<br>\n",
    "- The top right hand side of the IDE is a text editor. You can create Python scripts and programs here. While running code at the Python prompt can be convenient at times (I often use mine as a calculator), it is not suitable for writing complex code. Also, you typically want to write code that you can save and reuse. For this you will need to create .py files, essentially text documents that can be stored and run repeatedly."
   ]
  },
  {
   "cell_type": "markdown",
   "metadata": {
    "deletable": true,
    "editable": true
   },
   "source": [
    "### Writing and Running Code at the Python Prompt\n",
    "Similar to running code in a code cell, individual lines of code may be run at the Python prompt, as shown in the screenshots below.<br><br>\n",
    "<img src=\"Expression.png\" width=\"500\">\n",
    "In this screenshot, we have entered a mathematical expression.<br><br>\n",
    "<img src=\"Calculated.png\" width=\"500\">\n",
    "Here, the value of the expression we entered has been calculated.<br><br>\n",
    "<img src=\"PrintStatement.png\" width=\"500\">\n",
    "In this screenshot, a print statement has been entered and run.<br><br>"
   ]
  },
  {
   "cell_type": "markdown",
   "metadata": {
    "deletable": true,
    "editable": true
   },
   "source": [
    "### Creating a .py File\n",
    "As mentioned, you generally want a permanent copy of the code you write.<br>\n",
    "Code that is written and run at the prompt is essentially lost code.<br>\n",
    "In the screenshot below, I clicked on _\"Create a new file\"_ and typed some commands in the file that opened (that is as yet unnamed).\n",
    "<img src=\"FirstPythonFile.png\" width=\"600\">\n",
    "<br><br>\n",
    "You can run these commands by clicking the green arrow in the toolbar. The results of running these commands are shown in the second screen shot. As you can see, the expression did not get evaluated (it would have needed to have been included inside a print statement or stored in a variable that was then included in a print statement).\n",
    "<br><br>\n",
    "<img src=\"RunCode.png\" width=\"600\">\n",
    "<br><br>\n",
    "You can also open a new Python 3 file by using the Canopy menus, as shown in the next screenshot.\n",
    "<img src=\"NewFile.png\" width=\"600\">\n"
   ]
  },
  {
   "cell_type": "markdown",
   "metadata": {
    "deletable": true,
    "editable": true
   },
   "source": [
    "### Saving a .py File\n",
    "To save the file, use the _\"Save As\"_ command from the _File_ menu.<br>\n",
    "Don't worry about the file type appearing as Python 2, as in the screen shot below -- you just care about the .py suffix.<br><br>\n",
    "<img src=\"SavingFile.png\" width=\"600\">\n",
    "<br><br>\n",
    "Once you have named the file and stored it in your class folder, you may close the file by clicking on the x in its name tag.\n"
   ]
  },
  {
   "cell_type": "markdown",
   "metadata": {
    "deletable": true,
    "editable": true
   },
   "source": [
    "### Opening a .py File\n",
    "To open the file we just created, locate the file in the file browser on the left side of the IDE, as shown below:<br><br>\n",
    "<img src=\"Opening.png\" width=\"500\"><br><br>\n",
    "Double-clicking on this file should open it."
   ]
  },
  {
   "cell_type": "markdown",
   "metadata": {
    "deletable": true,
    "editable": true
   },
   "source": [
    "## Back to the Jupyter Notebook\n",
    "You now know the basics of writing and running code directly in the Canopy IDE.<br>\n",
    "The rest of this lesson will be completed within the notebook."
   ]
  },
  {
   "cell_type": "markdown",
   "metadata": {
    "deletable": true,
    "editable": true
   },
   "source": [
    "## Variables\n",
    "You can think of variables as \"boxes\" that hold data. When you _assign_ a _value_ to a _variable_, you are storing the data contained by the value in the variable \"box.\" In Python, unlike in some other programming languages, you do not have to specify what _type_ of data you want to store in the variable. <br><br>\n",
    "There are a number of types you should know about:\n",
    "- __String__: A string is a sequence of characters and is generally shown within quotes (e.g. \"Sample String\")\n",
    "- __Integer__: An integer is a numerical data type with no decimal component (e.g. 7)\n",
    "- __Float__: A float is a numerical data type that has a decimal component (e.g. 7.0)\n",
    "- __Boolean__: The boolean data type contains the built-in values of True and False (only)\n",
    "<br><br>\n",
    "The code cell below demonstrates the use of variables for different data types."
   ]
  },
  {
   "cell_type": "code",
   "execution_count": 37,
   "metadata": {
    "collapsed": false,
    "deletable": true,
    "editable": true
   },
   "outputs": [
    {
     "name": "stdout",
     "output_type": "stream",
     "text": [
      "7 + 7 = 14\n"
     ]
    }
   ],
   "source": [
    "# Variables\n",
    "\n",
    "# Store a String in the variable x and\n",
    "# use the variable in a print statement.\n",
    "\n",
    "x = 7\n",
    "print(x, \"+\", x, \"=\", x+x)"
   ]
  },
  {
   "cell_type": "markdown",
   "metadata": {
    "deletable": true,
    "editable": true
   },
   "source": [
    "In the code cell above, we did a number of things:\n",
    "1. We stored the value _7_ in the variable _x_.\n",
    "2. We used the variable in a _print_ statement.\n",
    "3. We included both _integer_ and _string_ data types in the print statement. We are allowed to do this because we have separated each type by a comma when we switched back and forth between them.\n",
    "4. We included an _expression_ in our print statement. An _expression_ is a combination of variables, numeric values, and operators, in this case _x + x_.\n",
    "5. We let Python calculate the result of the expression and display it as output."
   ]
  },
  {
   "cell_type": "code",
   "execution_count": 38,
   "metadata": {
    "collapsed": false,
    "deletable": true,
    "editable": true
   },
   "outputs": [
    {
     "name": "stdout",
     "output_type": "stream",
     "text": [
      "35\n"
     ]
    }
   ],
   "source": [
    "# More on Variables\n",
    "\n",
    "# New values can be reassigned to variables\n",
    "x = 5 * x\n",
    "print(x)"
   ]
  },
  {
   "cell_type": "markdown",
   "metadata": {
    "deletable": true,
    "editable": true
   },
   "source": [
    "In the cell above, the expression _x = 5 * x_ gets evaluated __RIGHT__ to __LEFT__.<br>\n",
    "This means that __first__ the _RIGHT_ side of the expression is evaluated to __175__.<br>\n",
    "__THEN__ the new value _175_ is reassigned to the _x_ variable.<br>\n",
    "This new value is the one that is stored in the variable _x_ when the print command is called.\n",
    "<br><br>\n",
    "A value stored in a variable does not always need to be the same data type.<br>\n",
    "We had been storing integers in the variable _x_, but this can be changed:"
   ]
  },
  {
   "cell_type": "code",
   "execution_count": 39,
   "metadata": {
    "collapsed": false,
    "deletable": true,
    "editable": true
   },
   "outputs": [
    {
     "name": "stdout",
     "output_type": "stream",
     "text": [
      "HELLO!\n"
     ]
    }
   ],
   "source": [
    "# Changing the data type stored in a variable\n",
    "\n",
    "# This can be done the same way we changed the numeric value that was stored.\n",
    "# Change the value stored in x to a string, \"HELLO!\"\n",
    "x = \"HELLO!\"\n",
    "print(x)"
   ]
  },
  {
   "cell_type": "markdown",
   "metadata": {
    "deletable": true,
    "editable": true
   },
   "source": [
    "## Some Notes on Python\n",
    "Python has some built-in functions that we can use. You have already seen one of these -- the print() command.<br>\n",
    "Function calls are generally of the form of a function name, followed by some brackets.<br>\n",
    "You saw that when you wanted to print something, the text you wanted to have printed was included within the brackets.<br>\n",
    "_Inputs_ to a function are passed in by being included in the brackets following the function's name. For the print function, the input is the text to be printed.\n",
    "<br><br>\n",
    "The code below shows some more examples of the print statement."
   ]
  },
  {
   "cell_type": "code",
   "execution_count": 40,
   "metadata": {
    "collapsed": false,
    "deletable": true,
    "editable": true
   },
   "outputs": [
    {
     "name": "stdout",
     "output_type": "stream",
     "text": [
      "This is a line of text.\n",
      "This is also a line of text.\n",
      "I want to have a blank line display before the last line of text.\n",
      "\n",
      "This is the last line of text.\n"
     ]
    }
   ],
   "source": [
    "# Show how calling the print function with no text inputs\n",
    "# leads to inserting a blank line in the text output displayed.\n",
    "\n",
    "print(\"This is a line of text.\")\n",
    "print(\"This is also a line of text.\")\n",
    "print(\"I want to have a blank line display before the last line of text.\")\n",
    "print()\n",
    "print(\"This is the last line of text.\")"
   ]
  },
  {
   "cell_type": "markdown",
   "metadata": {
    "collapsed": true,
    "deletable": true,
    "editable": true
   },
   "source": [
    "## Accepting User Input\n",
    "There is another useful built-in function we can use.<br>\n",
    "This function lets us get input from a user.<br>\n",
    "The code cell below demonstrates this function, the input() function.<br>\n"
   ]
  },
  {
   "cell_type": "code",
   "execution_count": 42,
   "metadata": {
    "collapsed": false,
    "deletable": true,
    "editable": true
   },
   "outputs": [
    {
     "name": "stdout",
     "output_type": "stream",
     "text": [
      "Please enter your NAME: Emilia\n",
      "Please enter your FAVORITE COLOR: Purple\n",
      "Hello, Emilia. My favorite color is Purple too.\n"
     ]
    }
   ],
   "source": [
    "# Choose descriptive variable names for storing the raw user input you obtain.\n",
    "\n",
    "name = input(\"Please enter your NAME: \")\n",
    "color = input(\"Please enter your FAVORITE COLOR: \")\n",
    "print(\"Hello,\", name + \". My favorite color is\",color,\"too.\")"
   ]
  },
  {
   "cell_type": "markdown",
   "metadata": {
    "deletable": true,
    "editable": true
   },
   "source": [
    "Here, you may have noticed that we did something different in the print statement.<br>\n",
    "Instead of separating all of the strings and variables with commas, we used a __+ sign__ between the _name_ variable and the next string.<br>\n",
    "Commas would have worked, too, and the next code cell demonstrates the output you would get.\n"
   ]
  },
  {
   "cell_type": "code",
   "execution_count": 43,
   "metadata": {
    "collapsed": false,
    "deletable": true,
    "editable": true
   },
   "outputs": [
    {
     "name": "stdout",
     "output_type": "stream",
     "text": [
      "Please enter your NAME: Emilia\n",
      "Please enter your FAVORITE COLOR: Purple\n",
      "Hello, Emilia . My favorite color is Purple too.\n"
     ]
    }
   ],
   "source": [
    "# demonstrating the difference between \",\" and \"+\" in print statements\n",
    "name = input(\"Please enter your NAME: \")\n",
    "color = input(\"Please enter your FAVORITE COLOR: \")\n",
    "print(\"Hello,\", name, \". My favorite color is\",color,\"too.\")"
   ]
  },
  {
   "cell_type": "markdown",
   "metadata": {
    "deletable": true,
    "editable": true
   },
   "source": [
    "The difference is subtle, but there is a space before the period that is supposed to end the first sentence.<br>\n",
    "The comma automatically inserts a space between the items it is separating.<br>\n",
    "When you use the __+ sign__ to connect two strings, no space is inserted between them, unless you specifically add one.<br>\n",
    "This is called _string concatenation_ (and it only works with strings).\n",
    "The next code cell demonstrates this further."
   ]
  },
  {
   "cell_type": "code",
   "execution_count": 44,
   "metadata": {
    "collapsed": false,
    "deletable": true,
    "editable": true
   },
   "outputs": [
    {
     "name": "stdout",
     "output_type": "stream",
     "text": [
      "Hello World\n",
      "hello world\n",
      "there are 7 days in a week\n"
     ]
    }
   ],
   "source": [
    "# Demonstraton of what works (and what doesn't) with string concatenation\n",
    "\n",
    "# strings\n",
    "hi = \"Hello \" + \"World\"\n",
    "\n",
    "# variables storing strings and strings\n",
    "h = \"hello\"\n",
    "w = \"world\"\n",
    "\n",
    "hw = h + \" \" + w  # Adding a space between the two words with the 1-character long space string: \" \"\n",
    "\n",
    "# strings + numbers cast to strings using the str() function\n",
    "# \"Casting\" means that Python will convert a numerical value to a string representation of the value\n",
    "days = \"there are \" + str(7) + \" days in a week\" # Note the added spaces in the first and last strings\n",
    "\n",
    "# Now to test printing all these strings we've concatenated\n",
    "print(hi)\n",
    "print(hw)\n",
    "print(days)\n"
   ]
  },
  {
   "cell_type": "code",
   "execution_count": 45,
   "metadata": {
    "collapsed": false,
    "deletable": true,
    "editable": true
   },
   "outputs": [
    {
     "ename": "TypeError",
     "evalue": "Can't convert 'int' object to str implicitly",
     "output_type": "error",
     "traceback": [
      "\u001b[0;31m---------------------------------------------------------------------------\u001b[0m",
      "\u001b[0;31mTypeError\u001b[0m                                 Traceback (most recent call last)",
      "\u001b[0;32m<ipython-input-45-030ed1b36eb7>\u001b[0m in \u001b[0;36m<module>\u001b[0;34m()\u001b[0m\n\u001b[1;32m      1\u001b[0m \u001b[0;31m# This doesn't work\u001b[0m\u001b[0;34m\u001b[0m\u001b[0;34m\u001b[0m\u001b[0m\n\u001b[1;32m      2\u001b[0m \u001b[0mtwelve\u001b[0m \u001b[0;34m=\u001b[0m \u001b[0;36m12\u001b[0m\u001b[0;34m\u001b[0m\u001b[0m\n\u001b[0;32m----> 3\u001b[0;31m \u001b[0mprint\u001b[0m\u001b[0;34m(\u001b[0m\u001b[0;34m\"There are \"\u001b[0m \u001b[0;34m+\u001b[0m \u001b[0mtwelve\u001b[0m \u001b[0;34m+\u001b[0m \u001b[0;34m\" items in a dozen\"\u001b[0m\u001b[0;34m)\u001b[0m\u001b[0;34m\u001b[0m\u001b[0m\n\u001b[0m",
      "\u001b[0;31mTypeError\u001b[0m: Can't convert 'int' object to str implicitly"
     ]
    }
   ],
   "source": [
    "# This doesn't work\n",
    "twelve = 12\n",
    "print(\"There are \" + twelve + \" items in a dozen\")"
   ]
  },
  {
   "cell_type": "code",
   "execution_count": 46,
   "metadata": {
    "collapsed": false,
    "deletable": true,
    "editable": true
   },
   "outputs": [
    {
     "name": "stdout",
     "output_type": "stream",
     "text": [
      "7\n",
      "7 this is a string\n",
      "21\n",
      "77 this is a string\n",
      "777 this is a string\n"
     ]
    }
   ],
   "source": [
    "# More on casting\n",
    "\n",
    "number7 = 7 # because this is meant to be a number, do NOT use quotation marks\n",
    "string7 = \"7\" # because this is meant to be a string type, we need to use quotation marks\n",
    "\n",
    "# We can print both of these separately with no problems\n",
    "print(number7)\n",
    "print(string7 + \" this is a string\")\n",
    "\n",
    "# We can do math with numbers\n",
    "number21 = 3 * number7\n",
    "print(number21)\n",
    "\n",
    "# We can do string concatenation with strings\n",
    "string77 = string7 + string7\n",
    "print(string77 + \" this is a string\")\n",
    "\n",
    "# We can even \"multiply\" strings, as well\n",
    "string777 = 3 * string7\n",
    "print(string777 + \" this is a string\")"
   ]
  },
  {
   "cell_type": "code",
   "execution_count": 47,
   "metadata": {
    "collapsed": false,
    "deletable": true,
    "editable": true
   },
   "outputs": [
    {
     "name": "stdout",
     "output_type": "stream",
     "text": [
      "77 this is a string\n"
     ]
    },
    {
     "ename": "TypeError",
     "evalue": "Can't convert 'int' object to str implicitly",
     "output_type": "error",
     "traceback": [
      "\u001b[0;31m---------------------------------------------------------------------------\u001b[0m",
      "\u001b[0;31mTypeError\u001b[0m                                 Traceback (most recent call last)",
      "\u001b[0;32m<ipython-input-47-81076623ec0f>\u001b[0m in \u001b[0;36m<module>\u001b[0;34m()\u001b[0m\n\u001b[1;32m      6\u001b[0m \u001b[0;34m\u001b[0m\u001b[0m\n\u001b[1;32m      7\u001b[0m \u001b[0;31m# BUT we can't add strings and numbers\u001b[0m\u001b[0;34m\u001b[0m\u001b[0;34m\u001b[0m\u001b[0m\n\u001b[0;32m----> 8\u001b[0;31m \u001b[0mbad_1\u001b[0m \u001b[0;34m=\u001b[0m \u001b[0mstring7\u001b[0m \u001b[0;34m+\u001b[0m \u001b[0mnumber7\u001b[0m\u001b[0;34m\u001b[0m\u001b[0m\n\u001b[0m\u001b[1;32m      9\u001b[0m \u001b[0mprint\u001b[0m\u001b[0;34m(\u001b[0m\u001b[0mbad_1\u001b[0m\u001b[0;34m)\u001b[0m\u001b[0;34m\u001b[0m\u001b[0m\n",
      "\u001b[0;31mTypeError\u001b[0m: Can't convert 'int' object to str implicitly"
     ]
    }
   ],
   "source": [
    "# What CAN'T we do?\n",
    "\n",
    "# We can cast a number to a string and perform string concatenation\n",
    "ok = str(number7) + string7\n",
    "print(ok + \" this is a string\")\n",
    "\n",
    "# BUT we can't add strings and numbers\n",
    "bad_1 = string7 + number7\n",
    "print(bad_1)"
   ]
  },
  {
   "cell_type": "code",
   "execution_count": 48,
   "metadata": {
    "collapsed": false,
    "deletable": true,
    "editable": true
   },
   "outputs": [
    {
     "name": "stdout",
     "output_type": "stream",
     "text": [
      "14\n",
      "21\n",
      "11.0\n"
     ]
    },
    {
     "ename": "ValueError",
     "evalue": "invalid literal for int() with base 10: '5.5'",
     "output_type": "error",
     "traceback": [
      "\u001b[0;31m---------------------------------------------------------------------------\u001b[0m",
      "\u001b[0;31mValueError\u001b[0m                                Traceback (most recent call last)",
      "\u001b[0;32m<ipython-input-48-ec4db4818691>\u001b[0m in \u001b[0;36m<module>\u001b[0;34m()\u001b[0m\n\u001b[1;32m     17\u001b[0m \u001b[0;31m# Let's try...\u001b[0m\u001b[0;34m\u001b[0m\u001b[0;34m\u001b[0m\u001b[0m\n\u001b[1;32m     18\u001b[0m \u001b[0;34m\u001b[0m\u001b[0m\n\u001b[0;32m---> 19\u001b[0;31m \u001b[0mint_number\u001b[0m \u001b[0;34m=\u001b[0m \u001b[0mint\u001b[0m\u001b[0;34m(\u001b[0m\u001b[0mdecimal_string\u001b[0m\u001b[0;34m)\u001b[0m\u001b[0;34m\u001b[0m\u001b[0m\n\u001b[0m\u001b[1;32m     20\u001b[0m \u001b[0mprint\u001b[0m\u001b[0;34m(\u001b[0m\u001b[0mint_number\u001b[0m\u001b[0;34m)\u001b[0m\u001b[0;34m\u001b[0m\u001b[0m\n",
      "\u001b[0;31mValueError\u001b[0m: invalid literal for int() with base 10: '5.5'"
     ]
    }
   ],
   "source": [
    "# Casting from string to int\n",
    "# You have seen how we can convert numbers to strings, but\n",
    "# does it work the other way around?\n",
    "\n",
    "num7 = int(string7)\n",
    "print(num7 + num7)\n",
    "print(num7 * 3)\n",
    "\n",
    "# Yes -- it works for integers. How about for decimal numbers?\n",
    "# It will, but in this case, you have to cast the string to a float \n",
    "# to handle the decimal portion of the number.\n",
    "decimal_string = \"5.5\"\n",
    "decimal_number = float(decimal_string)\n",
    "print(2 * decimal_number)\n",
    "\n",
    "# What happens if you accidentally cast a decimal string value to an int?\n",
    "# Let's try...\n",
    "\n",
    "int_number = int(decimal_string)\n",
    "print(int_number)\n"
   ]
  },
  {
   "cell_type": "code",
   "execution_count": 49,
   "metadata": {
    "collapsed": false,
    "deletable": true,
    "editable": true
   },
   "outputs": [
    {
     "name": "stdout",
     "output_type": "stream",
     "text": [
      "5\n",
      "5.5\n",
      "5\n"
     ]
    }
   ],
   "source": [
    "# It doesn't work, but this does:\n",
    "int_number = int(float(decimal_string))\n",
    "print(int_number)\n",
    "\n",
    "# This works because you are allowed to convert\n",
    "# string representations of decimals to actual\n",
    "# decimal numbers. \n",
    "\n",
    "new_decimal = float(decimal_string)\n",
    "print(new_decimal)\n",
    "\n",
    "# You are ALSO allowed to TRUNCATE decimal numbers to\n",
    "# integer values by casting floats to ints\n",
    "new_int = int(new_decimal)\n",
    "print(new_int)\n",
    "\n",
    "# Note: A string representation of an integer value \n",
    "# can be cast to a float because there is no loss of information.\n",
    "# A string representation of a float could potentially lose information\n",
    "# after being cast to an integer, which is why we were not able to perform\n",
    "# this transformation in one step earlier."
   ]
  },
  {
   "cell_type": "markdown",
   "metadata": {
    "deletable": true,
    "editable": true
   },
   "source": [
    "### Getting Numerical Input from Users\n",
    "We already saw how to get input from a user by using the input() function.<br>\n",
    "All input obtained this way is in string format -- but sometimes we want numerical values.<br>\n"
   ]
  },
  {
   "cell_type": "code",
   "execution_count": 50,
   "metadata": {
    "collapsed": false,
    "deletable": true,
    "editable": true
   },
   "outputs": [
    {
     "name": "stdout",
     "output_type": "stream",
     "text": [
      "What is your age? 137.2\n"
     ]
    }
   ],
   "source": [
    "# Here, since I know I want numerical input, \n",
    "# I am casting the value to float type \n",
    "# (to allow for fractions of a year)\n",
    "# before storing it in the variable age.\n",
    "# We could also have cast to int, but this allows\n",
    "# for a greater chance of \"acceptable\" input.\n",
    "\n",
    "age = float(input(\"What is your age? \"))\n"
   ]
  },
  {
   "cell_type": "code",
   "execution_count": 51,
   "metadata": {
    "collapsed": false,
    "deletable": true,
    "editable": true
   },
   "outputs": [
    {
     "name": "stdout",
     "output_type": "stream",
     "text": [
      "In ten years you will be: 147.2\n"
     ]
    }
   ],
   "source": [
    "age_in_10_years = age + 10\n",
    "print(\"In ten years you will be:\", age_in_10_years)"
   ]
  },
  {
   "cell_type": "markdown",
   "metadata": {
    "deletable": true,
    "editable": true
   },
   "source": [
    "### Your Turn: \n",
    "- Add code to ask a user a series of approximately 3-5 questions.\n",
    "- Ask the user for both string input and numerical input.\n",
    "- Perform some string manipulations using the + or * operators with strings.\n",
    "- Perform some mathematical manipulations with the numeric input, casting values to ints or floats as needed.\n",
    "- You may add the code to this notebook file, __please modify the file name to include your first and last names__.\n",
    "- Turn in your modified .ipynb file  \n"
   ]
  },
  {
   "cell_type": "code",
   "execution_count": null,
   "metadata": {
    "collapsed": true,
    "deletable": true,
    "editable": true
   },
   "outputs": [],
   "source": []
  }
 ],
 "metadata": {
  "kernelspec": {
   "display_name": "Python 3",
   "language": "python",
   "name": "python3"
  },
  "language_info": {
   "codemirror_mode": {
    "name": "ipython",
    "version": 3
   },
   "file_extension": ".py",
   "mimetype": "text/x-python",
   "name": "python",
   "nbconvert_exporter": "python",
   "pygments_lexer": "ipython3",
   "version": "3.5.2"
  }
 },
 "nbformat": 4,
 "nbformat_minor": 2
}
